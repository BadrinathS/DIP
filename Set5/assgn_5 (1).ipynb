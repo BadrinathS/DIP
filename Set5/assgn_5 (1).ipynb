{
 "cells": [
  {
   "cell_type": "code",
   "execution_count": 1,
   "id": "7b1a23f8-bdf8-4ab9-805e-409121ad98c6",
   "metadata": {},
   "outputs": [],
   "source": [
    "import torch\n",
    "import torchvision.transforms as transforms\n",
    "import torchvision.models as models\n",
    "import numpy as np\n",
    "from sklearn.neighbors import KNeighborsClassifier\n",
    "from sklearn.metrics import accuracy_score"
   ]
  },
  {
   "cell_type": "code",
   "execution_count": 2,
   "id": "d2f87edf-575f-472d-8c1e-53815b5c2f8c",
   "metadata": {},
   "outputs": [],
   "source": [
    "import os\n",
    "import cv2"
   ]
  },
  {
   "cell_type": "code",
   "execution_count": 3,
   "id": "8fab4437-de31-4401-b076-22e821c0f5b5",
   "metadata": {},
   "outputs": [],
   "source": [
    "from torchvision import datasets\n",
    "from torch.utils.data import Dataset\n",
    "\n",
    "class LoadDataset(Dataset):\n",
    "    def __init__(self, root_dir):\n",
    "        self.root_dir = root_dir\n",
    "        self.classes = sorted(os.listdir(root_dir))\n",
    "        self.image_paths = []\n",
    "        self.labels = []\n",
    "        for label, class_name in enumerate(self.classes):\n",
    "            class_dir = os.path.join(root_dir, class_name)\n",
    "            for image_name in os.listdir(class_dir):\n",
    "                image_path = os.path.join(class_dir, image_name)\n",
    "                self.image_paths.append(image_path)\n",
    "                self.labels.append(label)\n",
    "\n",
    "    def __getitem__(self, index):\n",
    "        image_path = self.image_paths[index]\n",
    "        label = self.labels[index]\n",
    "        image = cv2.imread(image_path)\n",
    "        # convert to standard RGB\n",
    "        image = cv2.cvtColor(image, cv2.COLOR_BGR2RGB)\n",
    "        # convert to numpy array\n",
    "        image = np.array(image)\n",
    "        \n",
    "        # Apply transformations \n",
    "        transform = transforms.Compose([\n",
    "            transforms.ToTensor(),\n",
    "            transforms.Resize(256, antialias=True),\n",
    "            transforms.CenterCrop(224),\n",
    "            transforms.Normalize(mean=[0.485, 0.456, 0.406], std= [0.229, 0.224, 0.225])\n",
    "        ])\n",
    "        image = transform(image)\n",
    "        return image, label\n",
    "\n",
    "    def __len__(self):\n",
    "        return len(self.image_paths)"
   ]
  },
  {
   "cell_type": "code",
   "execution_count": 4,
   "id": "56c56bfa-e897-4acd-b784-c46d31e1d2cc",
   "metadata": {},
   "outputs": [],
   "source": [
    "# Create dataset\n",
    "traindataset = LoadDataset('Images/train')\n",
    "testdataset = LoadDataset('Images/test')\n",
    "\n",
    "from torch.utils.data import DataLoader\n",
    "\n",
    "# Create dataloader\n",
    "traindataloader = DataLoader(traindataset, batch_size=1, shuffle=True)\n",
    "testdataloader =  DataLoader(testdataset, batch_size=1, shuffle=False)"
   ]
  },
  {
   "cell_type": "markdown",
   "id": "d236f811-b84e-417f-805f-9e6967cdffa8",
   "metadata": {},
   "source": [
    "## KNN Classifier with deep features"
   ]
  },
  {
   "cell_type": "code",
   "execution_count": 5,
   "id": "11eff334-3d24-40ec-9b0b-a9bc142065c3",
   "metadata": {},
   "outputs": [],
   "source": [
    "# Load the pre-trained ResNet model\n",
    "model = models.resnet18(weights=\"IMAGENET1K_V1\")\n",
    "\n",
    "# Modify the model to remove the last fully connected layer (classifier)\n",
    "model = torch.nn.Sequential(*(list(model.children())[:-1]))"
   ]
  },
  {
   "cell_type": "code",
   "execution_count": 6,
   "id": "bef27feb-5654-41f3-8ff0-25c5b9cd40d4",
   "metadata": {},
   "outputs": [],
   "source": [
    "#function to extract features\n",
    "def extract_features(image, model):\n",
    "    with torch.no_grad():\n",
    "        features = model(image)\n",
    "    return features.squeeze().numpy()"
   ]
  },
  {
   "cell_type": "code",
   "execution_count": 7,
   "id": "e1b9ba63-1160-466d-96f9-671e6703936e",
   "metadata": {},
   "outputs": [],
   "source": [
    "# Now we run a loop to create a list of train features and its labels\n",
    "train_features = []\n",
    "train_labels = []\n",
    "\n",
    "for batch_idx, (image, label) in enumerate(traindataloader):\n",
    "    features = extract_features(image, model)\n",
    "    train_features.append(features)\n",
    "    label = label.numpy()\n",
    "    train_labels.append(label)"
   ]
  },
  {
   "cell_type": "code",
   "execution_count": 8,
   "id": "bffeeb45-5332-4808-bcbb-dabacc7a1729",
   "metadata": {},
   "outputs": [],
   "source": [
    "# Similarly we can do for list of test features\n",
    "test_features = []\n",
    "test_labels = []\n",
    "\n",
    "for batch_idx, (image, label) in enumerate(testdataloader):\n",
    "    features = extract_features(image, model)\n",
    "    test_features.append(features)\n",
    "    label = label.numpy()\n",
    "    test_labels.append(label)"
   ]
  },
  {
   "cell_type": "code",
   "execution_count": 9,
   "id": "a5dcfc4f-157f-467f-8e2b-4d5507fcd688",
   "metadata": {},
   "outputs": [],
   "source": [
    "# convert into numpy arrays\n",
    "train_features = np.array(train_features)\n",
    "train_labels = np.array(train_labels)\n",
    "train_labels = train_labels.reshape(-1)\n",
    "\n",
    "test_features = np.array(test_features)\n",
    "test_labels = np.array(test_labels)\n",
    "test_labels = test_labels.reshape(-1)"
   ]
  },
  {
   "cell_type": "code",
   "execution_count": 10,
   "id": "9da86254-188d-499e-b49a-9fd0e5ae6a58",
   "metadata": {},
   "outputs": [
    {
     "data": {
      "text/plain": [
       "KNeighborsClassifier(n_neighbors=3)"
      ]
     },
     "execution_count": 10,
     "metadata": {},
     "output_type": "execute_result"
    }
   ],
   "source": [
    "# Initialize KNN classifier with k=3\n",
    "knn = KNeighborsClassifier(n_neighbors=3)\n",
    "# Fit the KNN model\n",
    "knn.fit(train_features, train_labels)"
   ]
  },
  {
   "cell_type": "code",
   "execution_count": 11,
   "id": "354e3bfd-2a13-45ae-90eb-c5d1631c4179",
   "metadata": {},
   "outputs": [],
   "source": [
    "# let us make predictions using this KNN\n",
    "preds = knn.predict(test_features)"
   ]
  },
  {
   "cell_type": "code",
   "execution_count": 12,
   "id": "fee94d0c-c775-4143-8831-e546f64f2c02",
   "metadata": {},
   "outputs": [
    {
     "data": {
      "text/plain": [
       "<sklearn.metrics._plot.confusion_matrix.ConfusionMatrixDisplay at 0x7f504c981090>"
      ]
     },
     "execution_count": 12,
     "metadata": {},
     "output_type": "execute_result"
    },
    {
     "data": {
      "image/png": "[encoded data removed]",
      "text/plain": [
       "<Figure size 432x288 with 2 Axes>"
      ]
     },
     "metadata": {
      "needs_background": "light"
     },
     "output_type": "display_data"
    }
   ],
   "source": [
    "# confusion matrix of the predictions\n",
    "from sklearn.metrics import confusion_matrix\n",
    "from sklearn.metrics import ConfusionMatrixDisplay\n",
    "\n",
    "c_matrix = confusion_matrix(test_labels,preds)\n",
    "disp = ConfusionMatrixDisplay(c_matrix)\n",
    "disp.plot()"
   ]
  },
  {
   "cell_type": "code",
   "execution_count": 13,
   "id": "1039e51f-02d1-467c-ac5d-bb5d5dc1309b",
   "metadata": {},
   "outputs": [],
   "source": [
    "confusion = c_matrix\n",
    "num_classes = len(c_matrix)\n",
    "TP = [confusion[i, i] for i in range(num_classes)]\n",
    "TN = [np.sum(confusion) - np.sum(confusion[i, :]) - np.sum(confusion[:, i]) + confusion[i, i] for i in range(num_classes)]\n",
    "FP = [np.sum(confusion[:, i]) - confusion[i, i] for i in range(num_classes)]\n",
    "FN = [np.sum(confusion[i, :]) - confusion[i, i] for i in range(num_classes)]"
   ]
  },
  {
   "cell_type": "code",
   "execution_count": 14,
   "id": "788a2021-6cbc-488a-9f8a-a1c9d59f84f6",
   "metadata": {},
   "outputs": [
    {
     "name": "stdout",
     "output_type": "stream",
     "text": [
      "[17 12 14  8 11] [68 72 66 79 77] [12  8 14  1  3] [ 3  8  6 12  9]\n"
     ]
    }
   ],
   "source": [
    "TP = np.array(TP)\n",
    "TN = np.array(TN)\n",
    "FP = np.array(FP)\n",
    "FN = np.array(FN)\n",
    "print(TP, TN, FP, FN)"
   ]
  },
  {
   "cell_type": "code",
   "execution_count": 15,
   "id": "83129408-6b9d-4ae6-84ee-65f7157afd4e",
   "metadata": {},
   "outputs": [
    {
     "name": "stdout",
     "output_type": "stream",
     "text": [
      "[0.85 0.84 0.8  0.87 0.88]\n"
     ]
    }
   ],
   "source": [
    "#The accuracy of the classes\n",
    "acc = (TP+TN)/(TP+FP+FN+TN)\n",
    "print(acc)"
   ]
  },
  {
   "cell_type": "code",
   "execution_count": 16,
   "id": "f7e01c65-1aae-4d58-b374-d74dcf09c53f",
   "metadata": {},
   "outputs": [
    {
     "name": "stdout",
     "output_type": "stream",
     "text": [
      "[0.85 0.6  0.7  0.4  0.55]\n"
     ]
    }
   ],
   "source": [
    "#The sensitivity of the classes\n",
    "sens = TP/(TP+FN)\n",
    "print(sens)"
   ]
  },
  {
   "cell_type": "code",
   "execution_count": 17,
   "id": "27df7cb1-39ea-4cc9-9a15-b9a158437399",
   "metadata": {},
   "outputs": [
    {
     "name": "stdout",
     "output_type": "stream",
     "text": [
      "[0.85   0.9    0.825  0.9875 0.9625]\n"
     ]
    }
   ],
   "source": [
    "#The specificity of the classes\n",
    "spec = TN/(TN+FP)\n",
    "print(spec)"
   ]
  },
  {
   "cell_type": "markdown",
   "id": "d69eb625-b43f-401e-b6e3-832347444443",
   "metadata": {},
   "source": [
    "## Fine-tuning"
   ]
  },
  {
   "cell_type": "code",
   "execution_count": 18,
   "id": "e730d09d-9f53-4b58-a4b7-48a604cbf073",
   "metadata": {},
   "outputs": [],
   "source": [
    "# Some important hyperparameters\n",
    "EPOCHS = 100\n",
    "BATCH_SIZE = 4\n",
    "LEARNING_RATE = 1e-4"
   ]
  },
  {
   "cell_type": "code",
   "execution_count": 19,
   "id": "1888b997-7d2f-4c80-b8af-121dcf5d1dc3",
   "metadata": {},
   "outputs": [],
   "source": [
    "from torch.utils.data import Subset\n",
    "import random\n",
    "\n",
    "# create seperate traindataloader and validataloader\n",
    "all_dataset = LoadDataset('Images/train')\n",
    "\n",
    "# Split training and validation into 120/30\n",
    "train_indices = random.sample(range(150), 120)\n",
    "valid_indices = list(set(range(150))- set(train_indices))\n",
    "\n",
    "# Create dataset\n",
    "train_dataset = Subset(all_dataset, train_indices)\n",
    "valid_dataset = Subset(all_dataset, valid_indices)\n",
    "\n",
    "# Create dataloader\n",
    "traindataloader = DataLoader(train_dataset, batch_size = BATCH_SIZE, shuffle=True)\n",
    "validataloader = DataLoader(valid_dataset, batch_size= BATCH_SIZE, shuffle=True)"
   ]
  },
  {
   "cell_type": "code",
   "execution_count": 20,
   "id": "7e219325-b1a0-42d6-958d-855248705636",
   "metadata": {},
   "outputs": [],
   "source": [
    "model = models.resnet18(weights=\"IMAGENET1K_V1\")\n",
    "\n",
    "# Freeze the model weights\n",
    "for param in model.parameters():\n",
    "    param.requires_grad=False\n",
    "\n",
    "# Add an FC layer at the end to match the number of classes in our dataset\n",
    "model.fc = torch.nn.Linear(model.fc.in_features, 5)"
   ]
  },
  {
   "cell_type": "code",
   "execution_count": 21,
   "id": "8cd1c1d1-fe72-491c-acbc-b6ec72a3d67a",
   "metadata": {},
   "outputs": [],
   "source": [
    "# Define the loss function and optimizer\n",
    "criterion = torch.nn.CrossEntropyLoss()\n",
    "optimizer = torch.optim.Adam(model.fc.parameters(), lr=LEARNING_RATE)"
   ]
  },
  {
   "cell_type": "code",
   "execution_count": 22,
   "id": "d4bd4328-1324-4905-b60e-b73415c39e1b",
   "metadata": {},
   "outputs": [
    {
     "name": "stdout",
     "output_type": "stream",
     "text": [
      "Model states saved in :weights/run_11-22_01-52\n",
      "EPOCH: 1/100\n",
      "Train loss: 1.64722, Train accuracy: 0.23333\n",
      "Validation loss: 1.58333, Validation accuracy: 0.33333\n",
      "-------------\n",
      "EPOCH: 2/100\n",
      "Train loss: 1.48075, Train accuracy: 0.40000\n",
      "Validation loss: 1.38034, Validation accuracy: 0.50000\n",
      "-------------\n",
      "EPOCH: 3/100\n",
      "Train loss: 1.36747, Train accuracy: 0.48333\n",
      "Validation loss: 1.23362, Validation accuracy: 0.53333\n",
      "-------------\n",
      "EPOCH: 4/100\n",
      "Train loss: 1.28436, Train accuracy: 0.54167\n",
      "Validation loss: 1.05806, Validation accuracy: 0.66667\n",
      "-------------\n",
      "EPOCH: 5/100\n",
      "Train loss: 1.18818, Train accuracy: 0.65833\n",
      "Validation loss: 0.98275, Validation accuracy: 0.76667\n",
      "-------------\n",
      "EPOCH: 6/100\n",
      "Train loss: 1.11714, Train accuracy: 0.70000\n",
      "Validation loss: 0.86644, Validation accuracy: 0.86667\n",
      "-------------\n",
      "EPOCH: 7/100\n",
      "Train loss: 1.03066, Train accuracy: 0.75833\n",
      "Validation loss: 0.75528, Validation accuracy: 0.86667\n",
      "-------------\n",
      "EPOCH: 8/100\n",
      "Train loss: 1.01863, Train accuracy: 0.77500\n",
      "Validation loss: 0.70250, Validation accuracy: 0.96667\n",
      "-------------\n",
      "EPOCH: 9/100\n",
      "Train loss: 0.92201, Train accuracy: 0.83333\n",
      "Validation loss: 0.61330, Validation accuracy: 1.00000\n",
      "-------------\n",
      "EPOCH: 10/100\n",
      "Train loss: 0.85856, Train accuracy: 0.83333\n",
      "Validation loss: 0.51952, Validation accuracy: 1.00000\n",
      "-------------\n",
      "EPOCH: 11/100\n",
      "Train loss: 0.86352, Train accuracy: 0.83333\n",
      "Validation loss: 0.52439, Validation accuracy: 1.00000\n",
      "-------------\n",
      "EPOCH: 12/100\n",
      "Train loss: 0.78571, Train accuracy: 0.86667\n",
      "Validation loss: 0.44492, Validation accuracy: 1.00000\n",
      "-------------\n",
      "EPOCH: 13/100\n",
      "Train loss: 0.72848, Train accuracy: 0.91667\n",
      "Validation loss: 0.42628, Validation accuracy: 1.00000\n",
      "-------------\n",
      "EPOCH: 14/100\n",
      "Train loss: 0.75050, Train accuracy: 0.84167\n",
      "Validation loss: 0.39366, Validation accuracy: 1.00000\n",
      "-------------\n",
      "EPOCH: 15/100\n",
      "Train loss: 0.74074, Train accuracy: 0.86667\n",
      "Validation loss: 0.35377, Validation accuracy: 1.00000\n",
      "-------------\n",
      "EPOCH: 16/100\n",
      "Train loss: 0.61601, Train accuracy: 0.91667\n",
      "Validation loss: 0.31006, Validation accuracy: 1.00000\n",
      "-------------\n",
      "EPOCH: 17/100\n",
      "Train loss: 0.64578, Train accuracy: 0.90833\n",
      "Validation loss: 0.28250, Validation accuracy: 1.00000\n",
      "-------------\n",
      "EPOCH: 18/100\n",
      "Train loss: 0.57223, Train accuracy: 0.90000\n",
      "Validation loss: 0.25604, Validation accuracy: 1.00000\n",
      "-------------\n",
      "EPOCH: 19/100\n",
      "Train loss: 0.59848, Train accuracy: 0.88333\n",
      "Validation loss: 0.23557, Validation accuracy: 1.00000\n",
      "-------------\n",
      "EPOCH: 20/100\n",
      "Train loss: 0.58070, Train accuracy: 0.91667\n",
      "Validation loss: 0.26562, Validation accuracy: 1.00000\n",
      "-------------\n",
      "EPOCH: 21/100\n",
      "Train loss: 0.50515, Train accuracy: 0.91667\n",
      "Validation loss: 0.23966, Validation accuracy: 1.00000\n",
      "-------------\n",
      "EPOCH: 22/100\n",
      "Train loss: 0.55989, Train accuracy: 0.90833\n",
      "Validation loss: 0.20110, Validation accuracy: 1.00000\n",
      "-------------\n",
      "EPOCH: 23/100\n",
      "Train loss: 0.60667, Train accuracy: 0.85833\n",
      "Validation loss: 0.18470, Validation accuracy: 1.00000\n",
      "-------------\n",
      "EPOCH: 24/100\n",
      "Train loss: 0.49926, Train accuracy: 0.90833\n",
      "Validation loss: 0.17783, Validation accuracy: 1.00000\n",
      "-------------\n",
      "EPOCH: 25/100\n",
      "Train loss: 0.50844, Train accuracy: 0.90833\n",
      "Validation loss: 0.16949, Validation accuracy: 1.00000\n",
      "-------------\n",
      "EPOCH: 26/100\n",
      "Train loss: 0.50950, Train accuracy: 0.87500\n",
      "Validation loss: 0.15638, Validation accuracy: 1.00000\n",
      "-------------\n",
      "EPOCH: 27/100\n",
      "Train loss: 0.45630, Train accuracy: 0.90833\n",
      "Validation loss: 0.14138, Validation accuracy: 1.00000\n",
      "-------------\n",
      "EPOCH: 28/100\n",
      "Train loss: 0.41982, Train accuracy: 0.94167\n",
      "Validation loss: 0.15506, Validation accuracy: 1.00000\n",
      "-------------\n",
      "EPOCH: 29/100\n",
      "Train loss: 0.43736, Train accuracy: 0.89167\n",
      "Validation loss: 0.13493, Validation accuracy: 1.00000\n",
      "-------------\n",
      "EPOCH: 30/100\n",
      "Train loss: 0.45900, Train accuracy: 0.91667\n",
      "Validation loss: 0.11275, Validation accuracy: 1.00000\n",
      "-------------\n",
      "EPOCH: 31/100\n",
      "Train loss: 0.38900, Train accuracy: 0.95833\n",
      "Validation loss: 0.11328, Validation accuracy: 1.00000\n",
      "-------------\n",
      "EPOCH: 32/100\n",
      "Train loss: 0.37846, Train accuracy: 0.95000\n",
      "Validation loss: 0.11129, Validation accuracy: 1.00000\n",
      "-------------\n",
      "EPOCH: 33/100\n",
      "Train loss: 0.44026, Train accuracy: 0.92500\n",
      "Validation loss: 0.10685, Validation accuracy: 1.00000\n",
      "-------------\n",
      "EPOCH: 34/100\n",
      "Train loss: 0.40241, Train accuracy: 0.94167\n",
      "Validation loss: 0.10836, Validation accuracy: 1.00000\n",
      "-------------\n",
      "EPOCH: 35/100\n",
      "Train loss: 0.35867, Train accuracy: 0.95833\n",
      "Validation loss: 0.10253, Validation accuracy: 1.00000\n",
      "-------------\n",
      "EPOCH: 36/100\n",
      "Train loss: 0.41597, Train accuracy: 0.95000\n",
      "Validation loss: 0.08430, Validation accuracy: 1.00000\n",
      "-------------\n",
      "EPOCH: 37/100\n",
      "Train loss: 0.31207, Train accuracy: 0.97500\n",
      "Validation loss: 0.08824, Validation accuracy: 1.00000\n",
      "-------------\n",
      "EPOCH: 38/100\n",
      "Train loss: 0.34961, Train accuracy: 0.94167\n",
      "Validation loss: 0.08708, Validation accuracy: 1.00000\n",
      "-------------\n",
      "EPOCH: 39/100\n",
      "Train loss: 0.40041, Train accuracy: 0.91667\n",
      "Validation loss: 0.08367, Validation accuracy: 1.00000\n",
      "-------------\n",
      "EPOCH: 40/100\n",
      "Train loss: 0.29930, Train accuracy: 0.93333\n",
      "Validation loss: 0.07208, Validation accuracy: 1.00000\n",
      "-------------\n",
      "EPOCH: 41/100\n",
      "Train loss: 0.46682, Train accuracy: 0.90000\n",
      "Validation loss: 0.06864, Validation accuracy: 1.00000\n",
      "-------------\n",
      "EPOCH: 42/100\n",
      "Train loss: 0.33463, Train accuracy: 0.92500\n",
      "Validation loss: 0.06779, Validation accuracy: 1.00000\n",
      "-------------\n",
      "EPOCH: 43/100\n",
      "Train loss: 0.32746, Train accuracy: 0.95833\n",
      "Validation loss: 0.07452, Validation accuracy: 1.00000\n",
      "-------------\n",
      "EPOCH: 44/100\n",
      "Train loss: 0.37137, Train accuracy: 0.94167\n",
      "Validation loss: 0.05976, Validation accuracy: 1.00000\n",
      "-------------\n",
      "EPOCH: 45/100\n",
      "Train loss: 0.29255, Train accuracy: 0.94167\n",
      "Validation loss: 0.06139, Validation accuracy: 1.00000\n",
      "-------------\n",
      "EPOCH: 46/100\n",
      "Train loss: 0.29567, Train accuracy: 0.95833\n",
      "Validation loss: 0.05752, Validation accuracy: 1.00000\n",
      "-------------\n",
      "EPOCH: 47/100\n",
      "Train loss: 0.22064, Train accuracy: 0.95000\n",
      "Validation loss: 0.05730, Validation accuracy: 1.00000\n",
      "-------------\n",
      "EPOCH: 48/100\n",
      "Train loss: 0.35157, Train accuracy: 0.94167\n",
      "Validation loss: 0.05779, Validation accuracy: 1.00000\n",
      "-------------\n",
      "EPOCH: 49/100\n",
      "Train loss: 0.29678, Train accuracy: 0.95833\n",
      "Validation loss: 0.04899, Validation accuracy: 1.00000\n",
      "-------------\n",
      "EPOCH: 50/100\n",
      "Train loss: 0.35981, Train accuracy: 0.90833\n",
      "Validation loss: 0.05508, Validation accuracy: 1.00000\n",
      "-------------\n",
      "EPOCH: 51/100\n",
      "Train loss: 0.25339, Train accuracy: 0.95833\n",
      "Validation loss: 0.04847, Validation accuracy: 1.00000\n",
      "-------------\n",
      "EPOCH: 52/100\n",
      "Train loss: 0.32140, Train accuracy: 0.95000\n",
      "Validation loss: 0.05565, Validation accuracy: 1.00000\n",
      "-------------\n",
      "EPOCH: 53/100\n",
      "Train loss: 0.23844, Train accuracy: 0.95000\n",
      "Validation loss: 0.05209, Validation accuracy: 1.00000\n",
      "-------------\n",
      "EPOCH: 54/100\n",
      "Train loss: 0.32602, Train accuracy: 0.94167\n",
      "Validation loss: 0.04501, Validation accuracy: 1.00000\n",
      "-------------\n",
      "EPOCH: 55/100\n",
      "Train loss: 0.26129, Train accuracy: 0.97500\n",
      "Validation loss: 0.04888, Validation accuracy: 1.00000\n",
      "-------------\n",
      "EPOCH: 56/100\n",
      "Train loss: 0.28682, Train accuracy: 0.94167\n",
      "Validation loss: 0.04831, Validation accuracy: 1.00000\n",
      "-------------\n",
      "EPOCH: 57/100\n",
      "Train loss: 0.32759, Train accuracy: 0.93333\n",
      "Validation loss: 0.04174, Validation accuracy: 1.00000\n",
      "-------------\n",
      "EPOCH: 58/100\n",
      "Train loss: 0.32029, Train accuracy: 0.93333\n",
      "Validation loss: 0.04215, Validation accuracy: 1.00000\n",
      "-------------\n",
      "EPOCH: 59/100\n",
      "Train loss: 0.25920, Train accuracy: 0.94167\n",
      "Validation loss: 0.04339, Validation accuracy: 1.00000\n",
      "-------------\n",
      "EPOCH: 60/100\n",
      "Train loss: 0.31899, Train accuracy: 0.92500\n",
      "Validation loss: 0.03886, Validation accuracy: 1.00000\n",
      "-------------\n",
      "EPOCH: 61/100\n",
      "Train loss: 0.19653, Train accuracy: 0.97500\n",
      "Validation loss: 0.04309, Validation accuracy: 1.00000\n",
      "-------------\n",
      "EPOCH: 62/100\n",
      "Train loss: 0.23939, Train accuracy: 0.97500\n",
      "Validation loss: 0.03710, Validation accuracy: 1.00000\n",
      "-------------\n",
      "EPOCH: 63/100\n",
      "Train loss: 0.22705, Train accuracy: 0.98333\n",
      "Validation loss: 0.03887, Validation accuracy: 1.00000\n",
      "-------------\n",
      "EPOCH: 64/100\n",
      "Train loss: 0.20183, Train accuracy: 0.95833\n",
      "Validation loss: 0.04191, Validation accuracy: 1.00000\n",
      "-------------\n",
      "EPOCH: 65/100\n",
      "Train loss: 0.24773, Train accuracy: 0.97500\n",
      "Validation loss: 0.03790, Validation accuracy: 1.00000\n",
      "-------------\n",
      "EPOCH: 66/100\n",
      "Train loss: 0.25749, Train accuracy: 0.95833\n",
      "Validation loss: 0.03304, Validation accuracy: 1.00000\n",
      "-------------\n",
      "EPOCH: 67/100\n",
      "Train loss: 0.29546, Train accuracy: 0.91667\n",
      "Validation loss: 0.03677, Validation accuracy: 1.00000\n",
      "-------------\n",
      "EPOCH: 68/100\n",
      "Train loss: 0.22326, Train accuracy: 0.95833\n",
      "Validation loss: 0.03799, Validation accuracy: 1.00000\n",
      "-------------\n",
      "EPOCH: 69/100\n",
      "Train loss: 0.31705, Train accuracy: 0.94167\n",
      "Validation loss: 0.03157, Validation accuracy: 1.00000\n",
      "-------------\n",
      "EPOCH: 70/100\n",
      "Train loss: 0.27860, Train accuracy: 0.92500\n",
      "Validation loss: 0.03422, Validation accuracy: 1.00000\n",
      "-------------\n",
      "EPOCH: 71/100\n",
      "Train loss: 0.21970, Train accuracy: 0.95000\n",
      "Validation loss: 0.02849, Validation accuracy: 1.00000\n",
      "-------------\n",
      "EPOCH: 72/100\n",
      "Train loss: 0.14842, Train accuracy: 0.99167\n",
      "Validation loss: 0.03091, Validation accuracy: 1.00000\n",
      "-------------\n",
      "EPOCH: 73/100\n",
      "Train loss: 0.27589, Train accuracy: 0.92500\n",
      "Validation loss: 0.03064, Validation accuracy: 1.00000\n",
      "-------------\n",
      "EPOCH: 74/100\n",
      "Train loss: 0.28199, Train accuracy: 0.92500\n",
      "Validation loss: 0.03886, Validation accuracy: 1.00000\n",
      "-------------\n",
      "EPOCH: 75/100\n",
      "Train loss: 0.27877, Train accuracy: 0.95000\n",
      "Validation loss: 0.03749, Validation accuracy: 1.00000\n",
      "-------------\n",
      "EPOCH: 76/100\n",
      "Train loss: 0.19358, Train accuracy: 0.97500\n",
      "Validation loss: 0.02001, Validation accuracy: 1.00000\n",
      "-------------\n",
      "EPOCH: 77/100\n",
      "Train loss: 0.23591, Train accuracy: 0.95833\n",
      "Validation loss: 0.03234, Validation accuracy: 1.00000\n",
      "-------------\n",
      "EPOCH: 78/100\n",
      "Train loss: 0.14281, Train accuracy: 1.00000\n",
      "Validation loss: 0.02454, Validation accuracy: 1.00000\n",
      "-------------\n",
      "EPOCH: 79/100\n",
      "Train loss: 0.22756, Train accuracy: 0.96667\n",
      "Validation loss: 0.02850, Validation accuracy: 1.00000\n",
      "-------------\n",
      "EPOCH: 80/100\n",
      "Train loss: 0.23405, Train accuracy: 0.94167\n",
      "Validation loss: 0.02168, Validation accuracy: 1.00000\n",
      "-------------\n",
      "EPOCH: 81/100\n",
      "Train loss: 0.26512, Train accuracy: 0.93333\n",
      "Validation loss: 0.02248, Validation accuracy: 1.00000\n",
      "-------------\n",
      "EPOCH: 82/100\n",
      "Train loss: 0.16849, Train accuracy: 0.95000\n",
      "Validation loss: 0.02361, Validation accuracy: 1.00000\n",
      "-------------\n",
      "EPOCH: 83/100\n",
      "Train loss: 0.17966, Train accuracy: 0.97500\n",
      "Validation loss: 0.02823, Validation accuracy: 1.00000\n",
      "-------------\n",
      "EPOCH: 84/100\n",
      "Train loss: 0.19500, Train accuracy: 0.95833\n",
      "Validation loss: 0.02452, Validation accuracy: 1.00000\n",
      "-------------\n",
      "EPOCH: 85/100\n",
      "Train loss: 0.22679, Train accuracy: 0.94167\n",
      "Validation loss: 0.02540, Validation accuracy: 1.00000\n",
      "-------------\n",
      "EPOCH: 86/100\n",
      "Train loss: 0.23985, Train accuracy: 0.94167\n",
      "Validation loss: 0.02315, Validation accuracy: 1.00000\n",
      "-------------\n",
      "EPOCH: 87/100\n",
      "Train loss: 0.23007, Train accuracy: 0.95833\n",
      "Validation loss: 0.01975, Validation accuracy: 1.00000\n",
      "-------------\n",
      "EPOCH: 88/100\n",
      "Train loss: 0.20560, Train accuracy: 0.97500\n",
      "Validation loss: 0.02066, Validation accuracy: 1.00000\n",
      "-------------\n",
      "EPOCH: 89/100\n",
      "Train loss: 0.17081, Train accuracy: 0.96667\n",
      "Validation loss: 0.01830, Validation accuracy: 1.00000\n",
      "-------------\n",
      "EPOCH: 90/100\n",
      "Train loss: 0.21930, Train accuracy: 0.95000\n",
      "Validation loss: 0.03009, Validation accuracy: 1.00000\n",
      "-------------\n",
      "EPOCH: 91/100\n",
      "Train loss: 0.22707, Train accuracy: 0.95000\n",
      "Validation loss: 0.01841, Validation accuracy: 1.00000\n",
      "-------------\n",
      "EPOCH: 92/100\n",
      "Train loss: 0.14770, Train accuracy: 0.98333\n",
      "Validation loss: 0.02241, Validation accuracy: 1.00000\n",
      "-------------\n",
      "EPOCH: 93/100\n",
      "Train loss: 0.17925, Train accuracy: 0.98333\n",
      "Validation loss: 0.01992, Validation accuracy: 1.00000\n",
      "-------------\n",
      "EPOCH: 94/100\n",
      "Train loss: 0.24088, Train accuracy: 0.94167\n",
      "Validation loss: 0.02675, Validation accuracy: 1.00000\n",
      "-------------\n",
      "EPOCH: 95/100\n",
      "Train loss: 0.20592, Train accuracy: 0.95833\n",
      "Validation loss: 0.02064, Validation accuracy: 1.00000\n",
      "-------------\n",
      "EPOCH: 96/100\n",
      "Train loss: 0.16397, Train accuracy: 0.97500\n",
      "Validation loss: 0.01973, Validation accuracy: 1.00000\n",
      "-------------\n",
      "EPOCH: 97/100\n",
      "Train loss: 0.34519, Train accuracy: 0.87500\n",
      "Validation loss: 0.02214, Validation accuracy: 1.00000\n",
      "-------------\n",
      "EPOCH: 98/100\n",
      "Train loss: 0.15204, Train accuracy: 0.99167\n",
      "Validation loss: 0.01840, Validation accuracy: 1.00000\n",
      "-------------\n",
      "EPOCH: 99/100\n",
      "Train loss: 0.21499, Train accuracy: 0.96667\n",
      "Validation loss: 0.01613, Validation accuracy: 1.00000\n",
      "-------------\n",
      "EPOCH: 100/100\n",
      "Train loss: 0.22645, Train accuracy: 0.95833\n",
      "Validation loss: 0.01819, Validation accuracy: 1.00000\n",
      "-------------\n"
     ]
    }
   ],
   "source": [
    "# Train the model\n",
    "from datetime import datetime\n",
    "from torch.autograd import Variable\n",
    "\n",
    "# # Create directory to save the model states\n",
    "current_datetime = datetime.now()\n",
    "date_time_format = current_datetime.strftime(\"%m-%d_%H-%M\")\n",
    "directory_name = f\"weights/run_{date_time_format}\"\n",
    "\n",
    "# Create the directory\n",
    "os.makedirs(directory_name)\n",
    "print(f\"Model states saved in :{directory_name}\")\n",
    "\n",
    "train_loss = []\n",
    "train_accu = []\n",
    "val_loss = []\n",
    "val_accu = []\n",
    "\n",
    "for e in range(EPOCHS):\n",
    "    print(\"EPOCH: {}/{}\".format(e+1, EPOCHS)) \n",
    "    running_loss = 0\n",
    "    correct_pred = 0\n",
    "    total_pred = 0\n",
    "    #set the model to train\n",
    "    model.train()\n",
    "    epoch_train_loss = []\n",
    "    epoch_test_accu = []\n",
    "    for batch_idx, (image, label) in enumerate(traindataloader):\n",
    "        x = Variable(image)\n",
    "        y = Variable(label)\n",
    "        #forward pass\n",
    "        optimizer.zero_grad()\n",
    "        pred = model.forward(x)\n",
    "        #calculate loss\n",
    "        loss = criterion(pred,y)\n",
    "        #calculate accuracy\n",
    "        _, mpred = torch.max(pred,1)\n",
    "        correct_pred += (mpred == label).sum().item()\n",
    "        total_pred += label.size(0)\n",
    "        #backpropagate the loss\n",
    "        loss.backward()\n",
    "        optimizer.step()\n",
    "        #detach\n",
    "        loss = loss.detach().numpy()\n",
    "        running_loss += loss      \n",
    "    train_loss.append(running_loss/len(traindataloader))\n",
    "    train_accu.append(correct_pred/total_pred)\n",
    "    print(\"Train loss: {:.5f}, Train accuracy: {:.5f}\".format(\n",
    "        running_loss/len(traindataloader),correct_pred/total_pred))\n",
    "\n",
    "    #set the model to test\n",
    "    model.eval()\n",
    "    running_loss = 0\n",
    "    correct_pred = 0\n",
    "    total_pred = 0\n",
    "    for batch_idx, (image, label) in enumerate(validataloader):\n",
    "        x = Variable(image)\n",
    "        y = Variable(label)\n",
    "        #forward pass\n",
    "        pred = model.forward(x)\n",
    "        #calculate loss\n",
    "        loss = criterion(pred, y)\n",
    "        #calculate accuracy\n",
    "        _, mpred = torch.max(pred,1)\n",
    "        correct_pred += (mpred == label).sum().item()\n",
    "        total_pred += label.size(0)\n",
    "        #detach\n",
    "        loss = loss.detach().numpy()\n",
    "        running_loss += loss\n",
    "    val_loss.append(running_loss/len(validataloader))\n",
    "    val_accu.append(correct_pred/total_pred)\n",
    "    print(\"Validation loss: {:.5f}, Validation accuracy: {:.5f}\".format(\n",
    "        running_loss/len(validataloader),correct_pred/total_pred))\n",
    "    print('-------------')\n",
    "\n",
    "    # save model after every 10 epochs\n",
    "    if e%10==0:\n",
    "        model_weights_name = f\"epoch_{e}.pth\"\n",
    "        model_weights_name = os.path.join(directory_name, model_weights_name)\n",
    "        torch.save(model.state_dict(), model_weights_name)"
   ]
  },
  {
   "cell_type": "code",
   "execution_count": 23,
   "id": "22df53c9-9c64-4776-b63d-1ff41f43cb12",
   "metadata": {},
   "outputs": [
    {
     "data": {
      "text/plain": [
       "<matplotlib.legend.Legend at 0x7f4ff876d570>"
      ]
     },
     "execution_count": 23,
     "metadata": {},
     "output_type": "execute_result"
    },
    {
     "data": {
      "image/png": "[encoded data removed]",
      "text/plain": [
       "<Figure size 1080x360 with 2 Axes>"
      ]
     },
     "metadata": {
      "needs_background": "light"
     },
     "output_type": "display_data"
    }
   ],
   "source": [
    "import matplotlib.pyplot as plt\n",
    "\n",
    "no_epochs = np.arange(len(train_loss))\n",
    "plt.figure(figsize=(15,5))\n",
    "plt.subplot(121)\n",
    "plt.title('Training Curve for Loss')\n",
    "plt.xlabel('No of Epochs')\n",
    "plt.ylabel('Cross Entropy Loss')\n",
    "plt.plot(no_epochs, train_loss, label='Training Loss')\n",
    "plt.plot(no_epochs, val_loss, label='Validation Loss')\n",
    "plt.legend()\n",
    "plt.subplot(122)\n",
    "plt.title('Accuracy for the Model')\n",
    "plt.xlabel('No of Epochs')\n",
    "plt.ylabel('Accuracy')\n",
    "plt.plot(no_epochs, train_accu, label='Training Accuracy')\n",
    "plt.plot(no_epochs, val_accu, label='Validation Accuracy')\n",
    "plt.legend()"
   ]
  },
  {
   "cell_type": "code",
   "execution_count": 25,
   "id": "a6b4c87c-4f9e-4308-ba42-81f76719a571",
   "metadata": {},
   "outputs": [
    {
     "data": {
      "text/plain": [
       "<All keys matched successfully>"
      ]
     },
     "execution_count": 25,
     "metadata": {},
     "output_type": "execute_result"
    }
   ],
   "source": [
    "# Let us now perform inference on test set\n",
    "model = models.resnet18()\n",
    "model.fc = torch.nn.Linear(model.fc.in_features, 5)\n",
    "\n",
    "#load model from epoch\n",
    "epoch_to_load = 80\n",
    "\n",
    "# load model weights\n",
    "model.load_state_dict(torch.load(f\"{directory_name}/epoch_{epoch_to_load}.pth\"))"
   ]
  },
  {
   "cell_type": "code",
   "execution_count": 30,
   "id": "fec4c671-d4ca-4eb9-b831-ce2992245ea7",
   "metadata": {},
   "outputs": [
    {
     "name": "stdout",
     "output_type": "stream",
     "text": [
      "Test Accuracy: 0.96\n",
      "Test loss: 0.08817716489953455\n"
     ]
    }
   ],
   "source": [
    "# lists to save the values\n",
    "labels_list = []\n",
    "preds_list = []\n",
    "\n",
    "# inference on test data\n",
    "model.eval()\n",
    "running_loss = 0\n",
    "correct_pred = 0\n",
    "total_pred = 0\n",
    "for batch_idx, (image, label) in enumerate(testdataloader):\n",
    "    x = Variable(image)\n",
    "    y = Variable(label)\n",
    "    pred = model.forward(x)\n",
    "    #calculate loss \n",
    "    loss = criterion(pred, y)\n",
    "    #calculate accuracy\n",
    "    _, mpred = torch.max(pred,1)\n",
    "    correct_pred += (mpred == label).sum().item()\n",
    "    total_pred += label.size(0)\n",
    "    #detach\n",
    "    loss = loss.detach().numpy()\n",
    "    running_loss += loss\n",
    "    #saving values\n",
    "    mpred = mpred.detach().numpy()\n",
    "    label = label.detach().numpy()\n",
    "    labels_list.append(label)\n",
    "    preds_list.append(mpred)\n",
    "\n",
    "print('Test Accuracy:', correct_pred/total_pred)\n",
    "print('Test loss:', running_loss/len(testdataloader))"
   ]
  },
  {
   "cell_type": "code",
   "execution_count": 32,
   "id": "1e3867cc-47a6-48d2-8561-213b7a7e94e9",
   "metadata": {},
   "outputs": [
    {
     "name": "stdout",
     "output_type": "stream",
     "text": [
      "(100, 1) (100, 1)\n"
     ]
    }
   ],
   "source": [
    "#create a confusion matrxi\n",
    "labels_list = np.array(labels_list)\n",
    "preds_list = np.array(preds_list)"
   ]
  },
  {
   "cell_type": "code",
   "execution_count": 33,
   "id": "7bd3a55f-23e6-4ec8-a031-fb458da75b69",
   "metadata": {},
   "outputs": [
    {
     "data": {
      "text/plain": [
       "<sklearn.metrics._plot.confusion_matrix.ConfusionMatrixDisplay at 0x7f52224ecfd0>"
      ]
     },
     "execution_count": 33,
     "metadata": {},
     "output_type": "execute_result"
    },
    {
     "data": {
      "image/png": "[encoded data removed]",
      "text/plain": [
       "<Figure size 432x288 with 2 Axes>"
      ]
     },
     "metadata": {
      "needs_background": "light"
     },
     "output_type": "display_data"
    }
   ],
   "source": [
    "# confusion matrix of the predictions\n",
    "c_matrix = confusion_matrix(labels_list,preds_list)\n",
    "disp = ConfusionMatrixDisplay(c_matrix)\n",
    "disp.plot()"
   ]
  },
  {
   "cell_type": "code",
   "execution_count": null,
   "id": "af2b9942-0336-4c8d-b80d-56b1bd21d9cb",
   "metadata": {},
   "outputs": [],
   "source": []
  },
  {
   "cell_type": "code",
   "execution_count": null,
   "id": "3b48ceb6-7395-4512-a927-a44137db833d",
   "metadata": {},
   "outputs": [],
   "source": []
  }
 ],
 "metadata": {
  "kernelspec": {
   "display_name": "Python 3 (ipykernel)",
   "language": "python",
   "name": "python3"
  },
  "language_info": {
   "codemirror_mode": {
    "name": "ipython",
    "version": 3
   },
   "file_extension": ".py",
   "mimetype": "text/x-python",
   "name": "python",
   "nbconvert_exporter": "python",
   "pygments_lexer": "ipython3",
   "version": "3.10.12"
  }
 },
 "nbformat": 4,
 "nbformat_minor": 5
}
